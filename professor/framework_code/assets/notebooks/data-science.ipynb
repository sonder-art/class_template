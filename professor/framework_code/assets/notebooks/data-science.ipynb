{
  "cells": [
    {
      "cell_type": "raw",
      "metadata": {
        "vscode": {
          "languageId": "raw"
        }
      },
      "source": [
        "# Data Science with Pandas & Matplotlib\n",
        "\n",
        "Explore data analysis and visualization with Python's powerful libraries.\n"
      ]
    },
    {
      "cell_type": "code",
      "execution_count": null,
      "metadata": {},
      "outputs": [],
      "source": [
        "import numpy as np\n",
        "import pandas as pd\n",
        "import matplotlib.pyplot as plt\n",
        "\n",
        "# Create sample data\n",
        "data = {\n",
        "    'x': np.linspace(0, 10, 100),\n",
        "    'y': np.sin(np.linspace(0, 10, 100))\n",
        "}\n",
        "\n",
        "df = pd.DataFrame(data)\n",
        "print(\"DataFrame created with\", len(df), \"rows\")\n"
      ]
    },
    {
      "cell_type": "code",
      "execution_count": null,
      "metadata": {},
      "outputs": [],
      "source": [
        "# Create a plot\n",
        "plt.figure(figsize=(10, 6))\n",
        "plt.plot(df['x'], df['y'], 'b-', linewidth=2, label='sin(x)')\n",
        "plt.title('Sine Wave Visualization')\n",
        "plt.xlabel('x')\n",
        "plt.ylabel('sin(x)')\n",
        "plt.grid(True, alpha=0.3)\n",
        "plt.legend()\n",
        "plt.show()\n"
      ]
    }
  ],
  "metadata": {
    "language_info": {
      "name": "python"
    }
  },
  "nbformat": 4,
  "nbformat_minor": 2
}
