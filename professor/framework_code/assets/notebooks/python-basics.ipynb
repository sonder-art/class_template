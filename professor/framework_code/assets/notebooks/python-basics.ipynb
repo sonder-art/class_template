{
  "cells": [
    {
      "cell_type": "raw",
      "metadata": {
        "vscode": {
          "languageId": "raw"
        }
      },
      "source": [
        "# Python Basics Tutorial\n",
        "\n",
        "Welcome to Python! This interactive notebook will teach you the fundamentals.\n"
      ]
    },
    {
      "cell_type": "code",
      "execution_count": null,
      "metadata": {},
      "outputs": [],
      "source": [
        "# Welcome to Python!\n",
        "print(\"Hello, World!\")\n",
        "\n",
        "# Basic data types\n",
        "number = 42\n",
        "text = \"Framework is awesome!\"\n",
        "is_working = True\n",
        "\n",
        "print(f\"Number: {number}\")\n",
        "print(f\"Text: {text}\")\n",
        "print(f\"Boolean: {is_working}\")\n"
      ]
    },
    {
      "cell_type": "code",
      "execution_count": null,
      "metadata": {},
      "outputs": [],
      "source": [
        "# Working with lists\n",
        "fruits = [\"apple\", \"banana\", \"cherry\"]\n",
        "print(\"Fruits:\", fruits)\n",
        "\n",
        "# List comprehension\n",
        "squares = [x**2 for x in range(1, 6)]\n",
        "print(\"Squares:\", squares)\n"
      ]
    },
    {
      "cell_type": "code",
      "execution_count": null,
      "metadata": {},
      "outputs": [],
      "source": [
        "# Simple function\n",
        "def greet(name):\n",
        "    return f\"Hello, {name}! Welcome to the framework.\"\n",
        "\n",
        "# Test the function\n",
        "message = greet(\"Student\")\n",
        "print(message)\n"
      ]
    }
  ],
  "metadata": {
    "language_info": {
      "name": "python"
    }
  },
  "nbformat": 4,
  "nbformat_minor": 2
}
