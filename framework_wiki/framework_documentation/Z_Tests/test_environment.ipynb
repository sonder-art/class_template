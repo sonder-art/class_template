{
  "cells": [
    {
      "cell_type": "raw",
      "metadata": {
        "vscode": {
          "languageId": "raw"
        }
      },
      "source": [
        "# Test Environment Notebook\n",
        "\n",
        "This notebook tests the JupyterLite lab environment integration.\n",
        "\n",
        "## Expected Features:\n",
        "- ✅ **Basic Python execution**\n",
        "- ✅ **File system access** - see files in the current directory\n",
        "- ✅ **Import capabilities** - import from `.py` files in the same directory\n",
        "- ✅ **Working directory** - confirm we're in the correct location\n"
      ]
    },
    {
      "cell_type": "code",
      "execution_count": null,
      "metadata": {},
      "outputs": [],
      "source": [
        "# Test 1: Basic Python execution\n",
        "print(\"🔥 JupyterLite is working!\")\n",
        "print(\"📁 Current working directory test\")\n",
        "\n",
        "import os\n",
        "print(f\"Working directory: {os.getcwd()}\")\n",
        "print(f\"Files visible: {os.listdir('.')}\")\n"
      ]
    },
    {
      "cell_type": "code",
      "execution_count": null,
      "metadata": {},
      "outputs": [],
      "source": [
        "# Test 2: Python environment capabilities\n",
        "import sys\n",
        "print(f\"Python version: {sys.version}\")\n",
        "print(f\"Platform: {sys.platform}\")\n",
        "\n",
        "# Test basic data manipulation\n",
        "data = [1, 2, 3, 4, 5]\n",
        "squared = [x**2 for x in data]\n",
        "print(f\"Original: {data}\")\n",
        "print(f\"Squared: {squared}\")\n"
      ]
    },
    {
      "cell_type": "code",
      "execution_count": null,
      "metadata": {},
      "outputs": [],
      "source": [
        "# Test 3: Try importing our utility functions\n",
        "try:\n",
        "    from test_utils import greet_student, calculate_simple\n",
        "    \n",
        "    print(\"✅ Successfully imported functions from test_utils.py!\")\n",
        "    print(f\"🤝 {greet_student('Test User')}\")\n",
        "    print(f\"🔢 Calculation test: 5 + 3 = {calculate_simple(5, 3)}\")\n",
        "    \n",
        "except ImportError as e:\n",
        "    print(f\"❌ Import failed: {e}\")\n",
        "    print(\"Creating basic functions instead...\")\n",
        "    \n",
        "    def greet_student(name):\n",
        "        return f\"Hello {name}! Welcome to JupyterLite!\"\n",
        "    \n",
        "    def calculate_simple(a, b):\n",
        "        return a + b\n",
        "    \n",
        "    print(f\"🤝 {greet_student('Test User')}\")\n",
        "    print(f\"🔢 Calculation test: 5 + 3 = {calculate_simple(5, 3)}\")\n"
      ]
    },
    {
      "cell_type": "raw",
      "metadata": {
        "vscode": {
          "languageId": "raw"
        }
      },
      "source": [
        "## Test Results Summary\n",
        "\n",
        "If you can run all cells above successfully, the JupyterLite integration is working correctly!\n",
        "\n",
        "### Expected Outcomes:\n",
        "1. **Basic Python execution** ✅\n",
        "2. **File system access** ✅ (should see files in current directory)\n",
        "3. **Import from local files** ✅ (if `test_utils.py` exists)\n",
        "\n",
        "### Next Steps:\n",
        "- Try creating your own cells\n",
        "- Experiment with different Python libraries\n",
        "- Create additional `.py` files to import from\n"
      ]
    },
    {
      "cell_type": "raw",
      "metadata": {
        "vscode": {
          "languageId": "raw"
        }
      },
      "source": [
        "# Test Environment Notebook\n",
        "\n",
        "This notebook tests the full JupyterLite integration with file visibility and imports.\n"
      ]
    },
    {
      "cell_type": "code",
      "execution_count": null,
      "metadata": {},
      "outputs": [],
      "source": [
        "# Test 1: Basic Python execution\n",
        "print(\"🔥 JupyterLite is working!\")\n",
        "print(\"📁 Current working directory test\")\n",
        "\n",
        "import os\n",
        "print(f\"Working directory: {os.getcwd()}\")\n",
        "print(f\"Files visible: {os.listdir('.')}\")\n"
      ]
    },
    {
      "cell_type": "code",
      "execution_count": null,
      "metadata": {},
      "outputs": [],
      "source": [
        "# Test 2: Check if we can see our test utilities\n",
        "try:\n",
        "    # This should work if the file is in the same directory\n",
        "    with open('test_utils.py', 'r') as f:\n",
        "        print(\"✅ Can see test_utils.py:\")\n",
        "        print(f\"📄 First few lines: {f.read()[:200]}...\")\n",
        "except FileNotFoundError:\n",
        "    print(\"❌ test_utils.py not found in current directory\")\n",
        "    print(\"📂 Available files:\", os.listdir('.'))\n"
      ]
    },
    {
      "cell_type": "code",
      "execution_count": null,
      "metadata": {},
      "outputs": [],
      "source": [
        "# Test 3: Try importing our utility functions\n",
        "try:\n",
        "    from test_utils import greet_student, calculate_simple\n",
        "    \n",
        "    print(\"✅ Successfully imported functions from test_utils.py!\")\n",
        "    print(f\"🤝 {greet_student('Test User')}\")\n",
        "    print(f\"🔢 Calculation test: 5 + 3 = {calculate_simple(5, 3)}\")\n",
        "    \n",
        "except ImportError as e:\n",
        "    print(f\"❌ Import failed: {e}\")\n",
        "    print(\"Creating basic functions instead...\")\n",
        "    \n",
        "    def greet_student(name):\n",
        "        return f\"Hello {name}! Welcome to the framework.\"\n",
        "    \n",
        "    def calculate_simple(a, b):\n",
        "        return a + b\n",
        "    \n",
        "    print(f\"🤝 {greet_student('Test User')}\")\n",
        "    print(f\"🔢 Calculation test: 5 + 3 = {calculate_simple(5, 3)}\")\n"
      ]
    }
  ],
  "metadata": {
    "language_info": {
      "name": "python"
    }
  },
  "nbformat": 4,
  "nbformat_minor": 2
}
